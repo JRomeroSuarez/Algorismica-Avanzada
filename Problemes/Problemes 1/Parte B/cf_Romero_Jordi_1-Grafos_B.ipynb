{
 "cells": [
  {
   "cell_type": "markdown",
   "metadata": {},
   "source": [
    "<div style=\"padding:30px; color: white; background-color: #0071CD\">\n",
    "<center>\n",
    "<img src=\"img/logoub.jpeg\">\n",
    "<center>\n",
    "<p>\n",
    "<h1>Algorítmica Avanzada</h1>\n",
    "<h2>Problemas 1.B - Grafos </h2>\n",
    "</center>\n",
    "</p>\n",
    "</div>"
   ]
  },
  {
   "cell_type": "markdown",
   "metadata": {},
   "source": [
    "\n",
    "<div class=\"alert alert-success\" style=\"width:90%; margin:0 auto;\">\n",
    "  <h2><p>0 - Depth-First Search</p></h2>\n",
    "  \n",
    "  <p>\n",
    "  El objetivo de _Depth First Search_ (DFS) es el mismo que el de BFS, encontrar un camino entre dos puntos del grafo\n",
    "  </p>\n",
    "  \n",
    "  <p>\n",
    "  <a href=\"https://en.wikipedia.org/wiki/Depth-first_search\">Aquí</a> podeis encontrar mas detalles sobre la implementación y características de este algoritmo.\n",
    "  </p>\n"
   ]
  },
  {
   "cell_type": "markdown",
   "metadata": {},
   "source": [
    "<div class=\"alert alert-danger\" style=\"width:80%; margin:0 auto; padding\">\n",
    "<center><p><h3> Código </h3></p> </center> \n",
    "\n",
    "<p>\n",
    "<h3>INPUT</h3>\n",
    "<ul>\n",
    "<li>__G__: Grafo sobre el que buscar el camino.</li>\n",
    "<li>__origen__: Este parámetro corresponde al índice de un nodo. En este caso deberá ser un entero _(e.g. 231)_.</li>\n",
    "<li>__destino__: El índice del nodo al que queremos llegar.</li>\n",
    "</ul>\n",
    "<br>\n",
    "<h3>OUTPUT</h3>\n",
    "El output de una funcion es un diccionario que contiene los siguientes valores\n",
    "<ul>\n",
    "<li>__ _'path'_ __: Una lista de índices correspondientes al camino encontrado del nodo inicial al nodo final, __ambos nodos, inicio y final, han de estar incluidos en esta lista__.</li>\n",
    "<li>__ _'expanded'_ __: El número de nodos que se han visitado para encontrar la solución.</li>\n",
    "<ul>\n",
    "\n",
    "</p>\n",
    "\n",
    "</div>"
   ]
  },
  {
   "cell_type": "code",
   "execution_count": 4,
   "metadata": {
    "collapsed": true
   },
   "outputs": [],
   "source": [
    "import networkx as nx\n",
    "\n",
    "def dfs(G, origen, destino):\n",
    "    \n",
    "    for node in G.nodes():\n",
    "        G.nodes[node]['parent']=None #Fem que tots els nodes no tinguin pare\n",
    "    explored=[origen] #Llista pels explorats\n",
    "    path = []\n",
    "    expanded = 0 #Parametre per saber quant s'ha expandit\n",
    "    trobat = False\n",
    "    queue = [] #Array per la cua começant per l'origen\n",
    "    queue.append(origen)\n",
    "    \n",
    "    while queue and not trobat:\n",
    "        actual = queue.pop()\n",
    "        #Creem una llista amb tots els veins que no s'han explorat i veins del node actual\n",
    "        neis = [nei for nei in G.neighbors(actual) if nei not in explored]\n",
    "        #Afegim 1 al comptador de nodes visitats\n",
    "        expanded +=1\n",
    "        for node in neis: #Iterem pels veins\n",
    "            explored.append(node) #Afegim el node vei als explorats\n",
    "            queue.append(node) #Afegim el node vei a la cua\n",
    "            G.nodes[node]['parent']=actual #Fem que el pare del node que estem iterant sigui l'actual. Primera iter, pare de 2 es 1\n",
    "            if node is destino: #Si el node que itera es el mateix que el que busquem\n",
    "                trobat = True #Sortim del bucle.\n",
    "\n",
    "    if not trobat:#Si no s'ha trobat fi\n",
    "        print(\"No s'ha trobar el node\")\n",
    "    \n",
    "    if trobat: #Si s'ha trobat\n",
    "        actual = destino #El desti pasa a ser l'actual\n",
    "        while G.nodes[actual]['parent']: #Mentre hi hagi pare\n",
    "            path.append(actual) #Afegim l'actual a path\n",
    "            actual = G.nodes[actual]['parent'] #El pare de l'actual(5), l'1 pasa a ser l'actual \n",
    "        path.append(actual) #Afegim l'actual al path(afegim l1 al path). Ens quedara (5,1)\n",
    "        \n",
    "    path.reverse()#Li donem la volta\n",
    "\n",
    "    #Retornem el cami i la expansio\n",
    "    return {\n",
    "        'path' : path,\n",
    "        'expanded' : expanded\n",
    "    }\n",
    "\n",
    "\n",
    "    "
   ]
  },
  {
   "cell_type": "code",
   "execution_count": 7,
   "metadata": {},
   "outputs": [
    {
     "data": {
      "text/plain": [
       "{'path': [1, 77, 71, 31, 14, 59, 95], 'expanded': 59}"
      ]
     },
     "execution_count": 7,
     "metadata": {},
     "output_type": "execute_result"
    }
   ],
   "source": [
    "G = nx.generators.barabasi_albert_graph(100, 2)\n",
    "dfs(G, 1, 95)"
   ]
  },
  {
   "cell_type": "code",
   "execution_count": 7,
   "metadata": {
    "collapsed": true
   },
   "outputs": [],
   "source": [
    "def dfs2(G,origen, destino):\n",
    "    visited,queue = set(), [origen]\n",
    "    expanded = 0\n",
    "    parent = {origen:None}\n",
    "    \n",
    "    while queue:\n",
    "        node = queue.pop()\n",
    "        if node == destino: break\n",
    "        if node not in visited:\n",
    "            visited.add(node)\n",
    "            expanded+=1\n",
    "            for n in G.neighbors(node):\n",
    "                if n in visited: continue\n",
    "                queue.append(n)\n",
    "                parent[n] = node\n",
    "                \n",
    "    node = destino\n",
    "    path = [node]\n",
    "    while node != origen:\n",
    "        node = parent[node]\n",
    "        path.append(node)\n",
    "    path.reverse()\n",
    "    \n",
    "    return {\n",
    "        'path':path,\n",
    "        'expanded':expanded\n",
    "    }"
   ]
  },
  {
   "cell_type": "code",
   "execution_count": 8,
   "metadata": {},
   "outputs": [
    {
     "data": {
      "text/plain": [
       "{'path': [1,\n",
       "  87,\n",
       "  30,\n",
       "  52,\n",
       "  23,\n",
       "  88,\n",
       "  28,\n",
       "  46,\n",
       "  50,\n",
       "  5,\n",
       "  99,\n",
       "  62,\n",
       "  93,\n",
       "  11,\n",
       "  84,\n",
       "  90,\n",
       "  2,\n",
       "  94,\n",
       "  38,\n",
       "  65,\n",
       "  89,\n",
       "  0,\n",
       "  95],\n",
       " 'expanded': 22}"
      ]
     },
     "execution_count": 8,
     "metadata": {},
     "output_type": "execute_result"
    }
   ],
   "source": [
    "G = nx.generators.barabasi_albert_graph(100, 2)\n",
    "dfs2(G, 1, 95)"
   ]
  },
  {
   "cell_type": "markdown",
   "metadata": {},
   "source": [
    "\n",
    "\n",
    "<div class=\"alert alert-success\" style=\"width:90%; margin:0 auto;\">\n",
    "  <h2><p>1 - Componentes conexos</p></h2>\n",
    "  <p>\n",
    "    Para este ejercicio deberéis implementar una función que identifique los distintos componentes conexos de un grafo. Esto es, agrupar todos los nodos que estén conectados por un camino.\n",
    "  </p>"
   ]
  },
  {
   "cell_type": "markdown",
   "metadata": {},
   "source": [
    "<div class=\"alert alert-danger\" style=\"width:80%; margin:0 auto; padding\">\n",
    "<center><p><h3> Código </h3></p> </center> \n",
    "\n",
    "<p>\n",
    "<h3>INPUT</h3>\n",
    "<ul>\n",
    "<li>__G__: Objeto de tipo grafo sobre el cual buscaremos componentes conexos.</li>\n",
    "</ul>\n",
    "<br>\n",
    "<h3>OUTPUT</h3>\n",
    "<ul>\n",
    "<li>__ _'componentes'_ __: Una lista de listas. Cada sub-lista contendrá los índices de los nodos de uno de los componentes conexos.</li>\n",
    "<ul>\n",
    "\n",
    "</p>\n",
    "\n",
    "</div>"
   ]
  },
  {
   "cell_type": "code",
   "execution_count": 9,
   "metadata": {
    "collapsed": true
   },
   "outputs": [],
   "source": [
    "def cnx(G):\n",
    "    components =[]\n",
    "    visited = set()\n",
    "    for node in G:\n",
    "        if node in visited: continue\n",
    "        comp = _dfs(G,node,set())\n",
    "        visited.update(comp)\n",
    "        components.append(list(comp))\n",
    "        \n",
    "    return components\n",
    "\n",
    "def _dfs(G,node,verts):\n",
    "    verts.add(node)\n",
    "    for neigh in G[node]:\n",
    "        if neigh not in verts:\n",
    "            verts = _dfs(G,neigh,verts)\n",
    "    return verts"
   ]
  },
  {
   "cell_type": "code",
   "execution_count": 10,
   "metadata": {
    "scrolled": true
   },
   "outputs": [
    {
     "name": "stderr",
     "output_type": "stream",
     "text": [
      "/home/jordi/anaconda3/lib/python3.7/site-packages/networkx/drawing/nx_pylab.py:579: MatplotlibDeprecationWarning: \n",
      "The iterable function was deprecated in Matplotlib 3.1 and will be removed in 3.3. Use np.iterable instead.\n",
      "  if not cb.iterable(width):\n"
     ]
    },
    {
     "data": {
      "image/png": "[encoded data removed]",
      "text/plain": [
       "<Figure size 504x504 with 1 Axes>"
      ]
     },
     "metadata": {},
     "output_type": "display_data"
    }
   ],
   "source": [
    "%matplotlib inline\n",
    "from utils import draw, random_multiple_component_graph\n",
    "G = random_multiple_component_graph(c=4)\n",
    "draw(G)"
   ]
  },
  {
   "cell_type": "code",
   "execution_count": null,
   "metadata": {
    "collapsed": true
   },
   "outputs": [],
   "source": []
  }
 ],
 "metadata": {
  "kernelspec": {
   "display_name": "Python 3",
   "language": "python",
   "name": "python3"
  },
  "language_info": {
   "codemirror_mode": {
    "name": "ipython",
    "version": 3
   },
   "file_extension": ".py",
   "mimetype": "text/x-python",
   "name": "python",
   "nbconvert_exporter": "python",
   "pygments_lexer": "ipython3",
   "version": "3.6.3"
  }
 },
 "nbformat": 4,
 "nbformat_minor": 2
}
